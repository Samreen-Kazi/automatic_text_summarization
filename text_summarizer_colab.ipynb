{
  "nbformat": 4,
  "nbformat_minor": 0,
  "metadata": {
    "colab": {
      "name": "Mini Project Spacy.ipynb",
      "provenance": [],
      "collapsed_sections": []
    },
    "kernelspec": {
      "name": "python3",
      "display_name": "Python 3"
    },
    "language_info": {
      "name": "python"
    }
  },
  "cells": [
    {
      "cell_type": "markdown",
      "source": [
        "Import Dependencies"
      ],
      "metadata": {
        "id": "0vzz9JgjsnKA"
      }
    },
    {
      "cell_type": "code",
      "execution_count": null,
      "metadata": {
        "id": "erK-eSdiRMtr"
      },
      "outputs": [],
      "source": [
        "# Load Pkgs\n",
        "import spacy "
      ]
    },
    {
      "cell_type": "code",
      "source": [
        "# Text Preprocessing Pkg\n",
        "from spacy.lang.en.stop_words import STOP_WORDS\n",
        "from string import punctuation"
      ],
      "metadata": {
        "id": "Ub7AwHZtSPbf"
      },
      "execution_count": null,
      "outputs": []
    },
    {
      "cell_type": "code",
      "source": [
        "# Build a List of Stopwords\n",
        "stopwords = list(STOP_WORDS)"
      ],
      "metadata": {
        "id": "mSmSDEy0SrM0"
      },
      "execution_count": null,
      "outputs": []
    },
    {
      "cell_type": "code",
      "source": [
        "stopwords"
      ],
      "metadata": {
        "id": "2ojLfxPz3UTH"
      },
      "execution_count": null,
      "outputs": []
    },
    {
      "cell_type": "code",
      "source": [
        "len(stopwords)"
      ],
      "metadata": {
        "colab": {
          "base_uri": "https://localhost:8080/"
        },
        "id": "yVrpedj1URPN",
        "outputId": "508c5742-b10e-44c3-b95c-7ce1b79b153e"
      },
      "execution_count": null,
      "outputs": [
        {
          "output_type": "execute_result",
          "data": {
            "text/plain": [
              "326"
            ]
          },
          "metadata": {},
          "execution_count": 4
        }
      ]
    },
    {
      "cell_type": "code",
      "source": [
        "document1 = \"\"\"Machine learning (ML) is the scientific study of algorithms and statistical models that computer systems use to progressively improve their performance on a specific task. Machine learning algorithms build a mathematical model of sample data, known as \\\"training data\\\", in order to make predictions or decisions without being explicitly programmed to perform the task. Machine learning algorithms are used in the applications of email filtering, detection of network intruders, and computer vision, where it is infeasible to develop an algorithm of specific instructions for performing the task. Machine learning is closely related to computational statistics, which focuses on making predictions using computers. The study of mathematical optimization delivers methods, theory and application domains to the field of machine learning. Data mining is a field of study within machine learning, and focuses on exploratory data analysis through unsupervised learning.In its application across business problems, machine learning is also referred to as predictive analytics.\"\"\""
      ],
      "metadata": {
        "id": "rEQPGA49SvlB"
      },
      "execution_count": null,
      "outputs": []
    },
    {
      "cell_type": "code",
      "source": [
        "nlp = spacy.load('en')"
      ],
      "metadata": {
        "id": "Laftr2mzS13I"
      },
      "execution_count": null,
      "outputs": []
    },
    {
      "cell_type": "code",
      "source": [
        "# Build an NLP Object\n",
        "docx = nlp(document1)"
      ],
      "metadata": {
        "id": "XQX3cKOBS1zy"
      },
      "execution_count": null,
      "outputs": []
    },
    {
      "cell_type": "code",
      "source": [
        "# Tokenization of Text\n",
        "mytokens = [token.text for token in docx]"
      ],
      "metadata": {
        "id": "wbZrzXJ-S1wm"
      },
      "execution_count": null,
      "outputs": []
    },
    {
      "cell_type": "code",
      "source": [
        "mytokens"
      ],
      "metadata": {
        "id": "n60BiO9j3s-d"
      },
      "execution_count": null,
      "outputs": []
    },
    {
      "cell_type": "markdown",
      "source": [
        "Word Frequency Table"
      ],
      "metadata": {
        "id": "ZIXRZVz_syDU"
      }
    },
    {
      "cell_type": "code",
      "source": [
        "# Build Word Frequency\n",
        "# word.text is tokenization in spacy\n",
        "word_frequencies = {}\n",
        "for word in docx:\n",
        "    if word.text not in stopwords:\n",
        "            if word.text not in word_frequencies.keys():\n",
        "                word_frequencies[word.text] = 1\n",
        "            else:\n",
        "                word_frequencies[word.text] += 1"
      ],
      "metadata": {
        "id": "r51V16WqS1t_"
      },
      "execution_count": null,
      "outputs": []
    },
    {
      "cell_type": "code",
      "source": [
        "word_frequencies"
      ],
      "metadata": {
        "id": "TnP1JKe3S1rT"
      },
      "execution_count": null,
      "outputs": []
    },
    {
      "cell_type": "markdown",
      "source": [
        "Maximum Word Frequency"
      ],
      "metadata": {
        "id": "_RoKkIENs7KT"
      }
    },
    {
      "cell_type": "code",
      "source": [
        "# Maximum Word Frequency\n",
        "maximum_frequency = max(word_frequencies.values())"
      ],
      "metadata": {
        "id": "eLpKWyXlS1ok"
      },
      "execution_count": null,
      "outputs": []
    },
    {
      "cell_type": "code",
      "source": [
        "maximum_frequency"
      ],
      "metadata": {
        "colab": {
          "base_uri": "https://localhost:8080/"
        },
        "id": "3viZDuxB4P6G",
        "outputId": "32193f21-c7c6-4f0a-c5dc-44d8cb81edb9"
      },
      "execution_count": null,
      "outputs": [
        {
          "output_type": "execute_result",
          "data": {
            "text/plain": [
              "9"
            ]
          },
          "metadata": {},
          "execution_count": 18
        }
      ]
    },
    {
      "cell_type": "code",
      "source": [
        "for word in word_frequencies.keys():  \n",
        "        word_frequencies[word] = (word_frequencies[word]/maximum_frequency)"
      ],
      "metadata": {
        "id": "JX5jcbgjTrcU"
      },
      "execution_count": null,
      "outputs": []
    },
    {
      "cell_type": "markdown",
      "source": [
        "Word Frequency Distribution"
      ],
      "metadata": {
        "id": "Sg2JKK7Ms9Gb"
      }
    },
    {
      "cell_type": "code",
      "source": [
        "# Frequency Table\n",
        "word_frequencies"
      ],
      "metadata": {
        "id": "WIZeMDTJTrY5"
      },
      "execution_count": null,
      "outputs": []
    },
    {
      "cell_type": "markdown",
      "source": [
        "Sentence Score and Ranking of Words in Each Sentence"
      ],
      "metadata": {
        "id": "haSRizH0tFuB"
      }
    },
    {
      "cell_type": "code",
      "source": [
        "# Sentence Tokens\n",
        "sentence_list = [ sentence for sentence in docx.sents ]"
      ],
      "metadata": {
        "id": "WvUq9is7TrWo"
      },
      "execution_count": null,
      "outputs": []
    },
    {
      "cell_type": "code",
      "source": [
        "# Example of Sentence Tokenization,Word Tokenization and Lowering All Text\n",
        "# for t in sentence_list:\n",
        "#     for w in t:\n",
        "#         print(w.text.lower())\n",
        "[w.text.lower() for t in sentence_list for w in t ]"
      ],
      "metadata": {
        "id": "TscI444yTrUT"
      },
      "execution_count": null,
      "outputs": []
    },
    {
      "cell_type": "code",
      "source": [
        "# Sentence Score via comparrng each word with sentence\n",
        "sentence_scores = {}  \n",
        "for sent in sentence_list:  \n",
        "        for word in sent:\n",
        "            if word.text.lower() in word_frequencies.keys():\n",
        "                if len(sent.text.split(' ')) < 30:\n",
        "                    if sent not in sentence_scores.keys():\n",
        "                        sentence_scores[sent] = word_frequencies[word.text.lower()]\n",
        "                    else:\n",
        "                        sentence_scores[sent] += word_frequencies[word.text.lower()]"
      ],
      "metadata": {
        "id": "KTaQjhMLTrSU"
      },
      "execution_count": null,
      "outputs": []
    },
    {
      "cell_type": "markdown",
      "source": [
        "Get Sentence Score"
      ],
      "metadata": {
        "id": "6wBfRKFttMN8"
      }
    },
    {
      "cell_type": "code",
      "source": [
        "# Sentence Score Table\n",
        "sentence_scores"
      ],
      "metadata": {
        "colab": {
          "base_uri": "https://localhost:8080/"
        },
        "id": "CvRfyggMVCF7",
        "outputId": "df378ff5-a560-4b05-ad62-72650c172ee8"
      },
      "execution_count": null,
      "outputs": [
        {
          "output_type": "execute_result",
          "data": {
            "text/plain": [
              "{Machine learning (ML) is the scientific study of algorithms and statistical models that computer systems use to progressively improve their performance on a specific task.: 4.555555555555556,\n",
              " Machine learning algorithms build a mathematical model of sample data, known as \"training data\", in order to make predictions or decisions without being explicitly programmed to perform the task.: 7.333333333333331,\n",
              " Machine learning is closely related to computational statistics, which focuses on making predictions using computers.: 4.111111111111112,\n",
              " The study of mathematical optimization delivers methods, theory and application domains to the field of machine learning.: 4.555555555555556,\n",
              " Data mining is a field of study within machine learning, and focuses on exploratory data analysis through unsupervised learning.: 5.777777777777778,\n",
              " In its application across business problems, machine learning is also referred to as predictive analytics.: 3.7777777777777777}"
            ]
          },
          "metadata": {},
          "execution_count": 23
        }
      ]
    },
    {
      "cell_type": "markdown",
      "source": [
        "Finding Top N Sentence with largest score"
      ],
      "metadata": {
        "id": "I97PxAKJtP_B"
      }
    },
    {
      "cell_type": "code",
      "source": [
        "# Import Heapq \n",
        "from heapq import nlargest"
      ],
      "metadata": {
        "id": "ZvPMIP_eVK8T"
      },
      "execution_count": null,
      "outputs": []
    },
    {
      "cell_type": "code",
      "source": [
        "summarized_sentences = nlargest(7, sentence_scores, key=sentence_scores.get)"
      ],
      "metadata": {
        "id": "0615D1d5VOqq"
      },
      "execution_count": null,
      "outputs": []
    },
    {
      "cell_type": "code",
      "source": [
        "summarized_sentences"
      ],
      "metadata": {
        "colab": {
          "base_uri": "https://localhost:8080/"
        },
        "id": "o-QHJM28VS1u",
        "outputId": "15daeadc-dbfd-4d29-de27-e989edb6c15c"
      },
      "execution_count": null,
      "outputs": [
        {
          "output_type": "execute_result",
          "data": {
            "text/plain": [
              "[Machine learning algorithms build a mathematical model of sample data, known as \"training data\", in order to make predictions or decisions without being explicitly programmed to perform the task.,\n",
              " Data mining is a field of study within machine learning, and focuses on exploratory data analysis through unsupervised learning.,\n",
              " Machine learning (ML) is the scientific study of algorithms and statistical models that computer systems use to progressively improve their performance on a specific task.,\n",
              " The study of mathematical optimization delivers methods, theory and application domains to the field of machine learning.,\n",
              " Machine learning is closely related to computational statistics, which focuses on making predictions using computers.,\n",
              " In its application across business problems, machine learning is also referred to as predictive analytics.]"
            ]
          },
          "metadata": {},
          "execution_count": 26
        }
      ]
    },
    {
      "cell_type": "code",
      "source": [
        "# Convert Sentences from Spacy Span to Strings for joining entire sentence\n",
        "for w in summarized_sentences:\n",
        "    print(w.text)"
      ],
      "metadata": {
        "colab": {
          "base_uri": "https://localhost:8080/"
        },
        "id": "AlLUYeYkVU0F",
        "outputId": "5f2e1bcd-0a41-46e1-c73a-1d26bc35cd1a"
      },
      "execution_count": null,
      "outputs": [
        {
          "output_type": "stream",
          "name": "stdout",
          "text": [
            "Machine learning algorithms build a mathematical model of sample data, known as \"training data\", in order to make predictions or decisions without being explicitly programmed to perform the task.\n",
            "Data mining is a field of study within machine learning, and focuses on exploratory data analysis through unsupervised learning.\n",
            "Machine learning (ML) is the scientific study of algorithms and statistical models that computer systems use to progressively improve their performance on a specific task.\n",
            "The study of mathematical optimization delivers methods, theory and application domains to the field of machine learning.\n",
            "Machine learning is closely related to computational statistics, which focuses on making predictions using computers.\n",
            "In its application across business problems, machine learning is also referred to as predictive analytics.\n"
          ]
        }
      ]
    },
    {
      "cell_type": "code",
      "source": [
        "# List Comprehension of Sentences Converted From Spacy.span to strings\n",
        "final_sentences = [ w.text for w in summarized_sentences ]"
      ],
      "metadata": {
        "id": "nMyLsY8fVYv4"
      },
      "execution_count": null,
      "outputs": []
    },
    {
      "cell_type": "markdown",
      "source": [
        "Join sentences"
      ],
      "metadata": {
        "id": "OfdPeVmYtSbx"
      }
    },
    {
      "cell_type": "code",
      "source": [
        "summary = ' '.join(final_sentences)"
      ],
      "metadata": {
        "id": "R3LKKMUIVdIZ"
      },
      "execution_count": null,
      "outputs": []
    },
    {
      "cell_type": "code",
      "source": [
        "summary"
      ],
      "metadata": {
        "colab": {
          "base_uri": "https://localhost:8080/",
          "height": 106
        },
        "id": "VZ_RUH0YVhdD",
        "outputId": "95814102-17a8-4eed-ddf7-1264a660b983"
      },
      "execution_count": null,
      "outputs": [
        {
          "output_type": "execute_result",
          "data": {
            "text/plain": [
              "'Machine learning algorithms build a mathematical model of sample data, known as \"training data\", in order to make predictions or decisions without being explicitly programmed to perform the task. Data mining is a field of study within machine learning, and focuses on exploratory data analysis through unsupervised learning. Machine learning (ML) is the scientific study of algorithms and statistical models that computer systems use to progressively improve their performance on a specific task. The study of mathematical optimization delivers methods, theory and application domains to the field of machine learning. Machine learning is closely related to computational statistics, which focuses on making predictions using computers. In its application across business problems, machine learning is also referred to as predictive analytics.'"
            ],
            "application/vnd.google.colaboratory.intrinsic+json": {
              "type": "string"
            }
          },
          "metadata": {},
          "execution_count": 30
        }
      ]
    },
    {
      "cell_type": "code",
      "source": [
        "# Length of Original Text\n",
        "len(document1)"
      ],
      "metadata": {
        "colab": {
          "base_uri": "https://localhost:8080/"
        },
        "id": "HPIVC6t9VhUu",
        "outputId": "3016b746-9bb0-44f5-be44-ccbcdd9844b4"
      },
      "execution_count": null,
      "outputs": [
        {
          "output_type": "execute_result",
          "data": {
            "text/plain": [
              "1069"
            ]
          },
          "metadata": {},
          "execution_count": 31
        }
      ]
    },
    {
      "cell_type": "code",
      "source": [
        "# Length of Summary\n",
        "len(summary)"
      ],
      "metadata": {
        "colab": {
          "base_uri": "https://localhost:8080/"
        },
        "id": "qaFI_9FUVp9m",
        "outputId": "2d3747a4-8be1-432e-c412-c688e5d8c1d8"
      },
      "execution_count": null,
      "outputs": [
        {
          "output_type": "execute_result",
          "data": {
            "text/plain": [
              "843"
            ]
          },
          "metadata": {},
          "execution_count": 32
        }
      ]
    },
    {
      "cell_type": "code",
      "source": [
        "# Place All As A Function For Reuseability\n",
        "def text_summarizer(raw_docx):\n",
        "    raw_text = raw_docx\n",
        "    docx = nlp(raw_text)\n",
        "    stopwords = list(STOP_WORDS)\n",
        "    # Build Word Frequency\n",
        "# word.text is tokenization in spacy\n",
        "    word_frequencies = {}  \n",
        "    for word in docx:  \n",
        "        if word.text not in stopwords:\n",
        "            if word.text not in word_frequencies.keys():\n",
        "                word_frequencies[word.text] = 1\n",
        "            else:\n",
        "                word_frequencies[word.text] += 1\n",
        "\n",
        "\n",
        "    maximum_frequncy = max(word_frequencies.values())\n",
        "\n",
        "    for word in word_frequencies.keys():  \n",
        "        word_frequencies[word] = (word_frequencies[word]/maximum_frequncy)\n",
        "    # Sentence Tokens\n",
        "    sentence_list = [ sentence for sentence in docx.sents ]\n",
        "\n",
        "    # Calculate Sentence Score and Ranking\n",
        "    sentence_scores = {}  \n",
        "    for sent in sentence_list:  \n",
        "        for word in sent:\n",
        "            if word.text.lower() in word_frequencies.keys():\n",
        "                if len(sent.text.split(' ')) < 30:\n",
        "                    if sent not in sentence_scores.keys():\n",
        "                        sentence_scores[sent] = word_frequencies[word.text.lower()]\n",
        "                    else:\n",
        "                        sentence_scores[sent] += word_frequencies[word.text.lower()]\n",
        "\n",
        "    # Find N Largest\n",
        "    summary_sentences = nlargest(7, sentence_scores, key=sentence_scores.get)\n",
        "    final_sentences = [ w.text for w in summary_sentences ]\n",
        "    summary = ' '.join(final_sentences)\n",
        "    print(\"Original Document\\n\")\n",
        "    print(raw_docx)\n",
        "    print(\"Total Length:\",len(raw_docx))\n",
        "    print('\\n\\nSummarized Document\\n')\n",
        "    print(summary)\n",
        "    print(\"Total Length:\",len(summary))"
      ],
      "metadata": {
        "id": "uctYdgOwWFg8"
      },
      "execution_count": null,
      "outputs": []
    },
    {
      "cell_type": "code",
      "source": [
        "document2 = \"\"\" Harry Potter is the most miserable, lonely boy you can imagine. He’s shunned by his relatives, the Dursleys, who have raised him since he was an infant. He’s forced to live in the cupboard under the stairs, forced to wear his cousin Dudley’s hand-me-down clothes, and forced to go to his neighbour’s house when the rest of the family is doing something fun. Yes, he’s just about as miserable as you can get.\n",
        "\n",
        "Harry’s world gets turned upside down on his 11th birthday, however. A magical half-giant, Hagrid, informs Harry that he’s really a wizard, and will soon be attending Hogwarts School of Witchcraft and Wizardry. Harry also learns that, in the wizarding world, he’s a hero. When he was an infant, the evil Lord Voldemort killed his parents and then tried to kill Harry too. What’s so amazing to everyone is that Harry survived, and allegedly destroyed Voldemort in the process.\n",
        "\n",
        "When Harry hears all this, he doesn’t know what to think. However, everything Hagrid tells him turns out to be true, and with a joyful heart Harry starts wizarding school in September. He quickly becomes best friends with a boy named Ron Weasley, and before they even make it to Christmas, they break tons of school rules when they attack a troll and prevent it from killing fellow student Hermione Granger. After the troll incident, the three become inseparable, and Harry is amazed to have found such great friends. He is constantly busy trying to stay on top of the mounds of homework, as well as participating in weekly Quidditch practices. Quidditch is a popular sport among wizards and Harry is the youngest Quidditch player in over a century. It's also a game Harry loves more than anything else at school.\"\"\"\n"
      ],
      "metadata": {
        "id": "VkWAe_vmWPFj"
      },
      "execution_count": null,
      "outputs": []
    },
    {
      "cell_type": "code",
      "source": [
        "text_summarizer(document2)"
      ],
      "metadata": {
        "colab": {
          "base_uri": "https://localhost:8080/"
        },
        "id": "u9cBDLFvWMDT",
        "outputId": "0ac469e5-0f90-4248-87dc-229a35c992b5"
      },
      "execution_count": null,
      "outputs": [
        {
          "output_type": "stream",
          "name": "stdout",
          "text": [
            "Original Document\n",
            "\n",
            " Harry Potter is the most miserable, lonely boy you can imagine. He’s shunned by his relatives, the Dursleys, who have raised him since he was an infant. He’s forced to live in the cupboard under the stairs, forced to wear his cousin Dudley’s hand-me-down clothes, and forced to go to his neighbour’s house when the rest of the family is doing something fun. Yes, he’s just about as miserable as you can get.\n",
            "\n",
            "Harry’s world gets turned upside down on his 11th birthday, however. A magical half-giant, Hagrid, informs Harry that he’s really a wizard, and will soon be attending Hogwarts School of Witchcraft and Wizardry. Harry also learns that, in the wizarding world, he’s a hero. When he was an infant, the evil Lord Voldemort killed his parents and then tried to kill Harry too. What’s so amazing to everyone is that Harry survived, and allegedly destroyed Voldemort in the process.\n",
            "\n",
            "When Harry hears all this, he doesn’t know what to think. However, everything Hagrid tells him turns out to be true, and with a joyful heart Harry starts wizarding school in September. He quickly becomes best friends with a boy named Ron Weasley, and before they even make it to Christmas, they break tons of school rules when they attack a troll and prevent it from killing fellow student Hermione Granger. After the troll incident, the three become inseparable, and Harry is amazed to have found such great friends. He is constantly busy trying to stay on top of the mounds of homework, as well as participating in weekly Quidditch practices. Quidditch is a popular sport among wizards and Harry is the youngest Quidditch player in over a century. It's also a game Harry loves more than anything else at school.\n",
            "Total Length: 1700\n",
            "\n",
            "\n",
            "Summarized Document\n",
            "\n",
            "A magical half-giant, Hagrid, informs Harry that he’s really a wizard, and will soon be attending Hogwarts School of Witchcraft and Wizardry. However, everything Hagrid tells him turns out to be true, and with a joyful heart Harry starts wizarding school in September. After the troll incident, the three become inseparable, and Harry is amazed to have found such great friends. Harry also learns that, in the wizarding world, he’s a hero. He’s shunned by his relatives, the Dursleys, who have raised him since he was an infant. He is constantly busy trying to stay on top of the mounds of homework, as well as participating in weekly Quidditch practices. Harry’s world gets turned upside down on his 11th birthday, however.\n",
            "Total Length: 724\n"
          ]
        }
      ]
    },
    {
      "cell_type": "markdown",
      "source": [
        "Calculating the Reading Time of A Text"
      ],
      "metadata": {
        "id": "8i2G5JEitZHF"
      }
    },
    {
      "cell_type": "code",
      "source": [
        "document1"
      ],
      "metadata": {
        "id": "vaDRlUV-aOQ2",
        "colab": {
          "base_uri": "https://localhost:8080/",
          "height": 124
        },
        "outputId": "45b383ea-0237-4f3f-8541-4865ccc5288d"
      },
      "execution_count": null,
      "outputs": [
        {
          "output_type": "execute_result",
          "data": {
            "text/plain": [
              "'Machine learning (ML) is the scientific study of algorithms and statistical models that computer systems use to progressively improve their performance on a specific task. Machine learning algorithms build a mathematical model of sample data, known as \"training data\", in order to make predictions or decisions without being explicitly programmed to perform the task. Machine learning algorithms are used in the applications of email filtering, detection of network intruders, and computer vision, where it is infeasible to develop an algorithm of specific instructions for performing the task. Machine learning is closely related to computational statistics, which focuses on making predictions using computers. The study of mathematical optimization delivers methods, theory and application domains to the field of machine learning. Data mining is a field of study within machine learning, and focuses on exploratory data analysis through unsupervised learning.In its application across business problems, machine learning is also referred to as predictive analytics.'"
            ],
            "application/vnd.google.colaboratory.intrinsic+json": {
              "type": "string"
            }
          },
          "metadata": {},
          "execution_count": 36
        }
      ]
    },
    {
      "cell_type": "code",
      "source": [
        "# Get Total Word Counts with Tokenization\n",
        "docx1 = nlp(document1)"
      ],
      "metadata": {
        "id": "LOeIPhBlaEDS"
      },
      "execution_count": null,
      "outputs": []
    },
    {
      "cell_type": "code",
      "source": [
        "# Tokens\n",
        "mytokens = [ token.text for token in docx1 ]"
      ],
      "metadata": {
        "id": "DrUoad8maGXc"
      },
      "execution_count": null,
      "outputs": []
    },
    {
      "cell_type": "code",
      "source": [
        "# Total Number or Length of Words\n",
        "len(mytokens)"
      ],
      "metadata": {
        "colab": {
          "base_uri": "https://localhost:8080/"
        },
        "id": "Q0lJ15zJaI-5",
        "outputId": "a936ec17-b92b-4b75-e909-b83995b381df"
      },
      "execution_count": null,
      "outputs": [
        {
          "output_type": "execute_result",
          "data": {
            "text/plain": [
              "173"
            ]
          },
          "metadata": {},
          "execution_count": 39
        }
      ]
    },
    {
      "cell_type": "code",
      "source": [
        "# Tokens\n",
        "mytokens = [ token.text for token in docx1 ]"
      ],
      "metadata": {
        "id": "RMRoKhibXTPi"
      },
      "execution_count": null,
      "outputs": []
    },
    {
      "cell_type": "code",
      "source": [
        "# Reading Time\n",
        "def readingTime(docs):\n",
        "    total_words_tokens =  [ token.text for token in nlp(docs)]\n",
        "    estimatedtime  = len(total_words_tokens)/200\n",
        "    return '{} mins'.format(round(estimatedtime))"
      ],
      "metadata": {
        "id": "S05VtZklXaSV"
      },
      "execution_count": null,
      "outputs": []
    },
    {
      "cell_type": "code",
      "source": [
        "readingTime(document1)"
      ],
      "metadata": {
        "colab": {
          "base_uri": "https://localhost:8080/",
          "height": 35
        },
        "id": "dIwOXTiwXlMK",
        "outputId": "2ca36aef-b04a-4cb0-fbbe-a2a750e1525b"
      },
      "execution_count": null,
      "outputs": [
        {
          "output_type": "execute_result",
          "data": {
            "text/plain": [
              "'1 mins'"
            ],
            "application/vnd.google.colaboratory.intrinsic+json": {
              "type": "string"
            }
          },
          "metadata": {},
          "execution_count": 42
        }
      ]
    },
    {
      "cell_type": "code",
      "source": [
        "document2"
      ],
      "metadata": {
        "colab": {
          "base_uri": "https://localhost:8080/",
          "height": 124
        },
        "id": "Kv252blNXL81",
        "outputId": "0759aafc-0fe5-4cd4-e9a5-b3a52c89f272"
      },
      "execution_count": null,
      "outputs": [
        {
          "output_type": "execute_result",
          "data": {
            "text/plain": [
              "\" Harry Potter is the most miserable, lonely boy you can imagine. He’s shunned by his relatives, the Dursleys, who have raised him since he was an infant. He’s forced to live in the cupboard under the stairs, forced to wear his cousin Dudley’s hand-me-down clothes, and forced to go to his neighbour’s house when the rest of the family is doing something fun. Yes, he’s just about as miserable as you can get.\\n\\nHarry’s world gets turned upside down on his 11th birthday, however. A magical half-giant, Hagrid, informs Harry that he’s really a wizard, and will soon be attending Hogwarts School of Witchcraft and Wizardry. Harry also learns that, in the wizarding world, he’s a hero. When he was an infant, the evil Lord Voldemort killed his parents and then tried to kill Harry too. What’s so amazing to everyone is that Harry survived, and allegedly destroyed Voldemort in the process.\\n\\nWhen Harry hears all this, he doesn’t know what to think. However, everything Hagrid tells him turns out to be true, and with a joyful heart Harry starts wizarding school in September. He quickly becomes best friends with a boy named Ron Weasley, and before they even make it to Christmas, they break tons of school rules when they attack a troll and prevent it from killing fellow student Hermione Granger. After the troll incident, the three become inseparable, and Harry is amazed to have found such great friends. He is constantly busy trying to stay on top of the mounds of homework, as well as participating in weekly Quidditch practices. Quidditch is a popular sport among wizards and Harry is the youngest Quidditch player in over a century. It's also a game Harry loves more than anything else at school.\""
            ],
            "application/vnd.google.colaboratory.intrinsic+json": {
              "type": "string"
            }
          },
          "metadata": {},
          "execution_count": 43
        }
      ]
    },
    {
      "cell_type": "code",
      "source": [
        "# Get Total Word Counts with Tokenization\n",
        "docx2 = nlp(document2)"
      ],
      "metadata": {
        "id": "eZUowE4KXNyH"
      },
      "execution_count": null,
      "outputs": []
    },
    {
      "cell_type": "code",
      "source": [
        "# Tokens\n",
        "mytokens2 = [ token.text for token in docx2 ]"
      ],
      "metadata": {
        "id": "0EU01M5favh6"
      },
      "execution_count": null,
      "outputs": []
    },
    {
      "cell_type": "code",
      "source": [
        "# Total Number or Length of Words\n",
        "len(mytokens2)"
      ],
      "metadata": {
        "colab": {
          "base_uri": "https://localhost:8080/"
        },
        "id": "5G1r6_3jXWSX",
        "outputId": "012b911c-e794-4d39-ee7a-6d65b55503da"
      },
      "execution_count": null,
      "outputs": [
        {
          "output_type": "execute_result",
          "data": {
            "text/plain": [
              "351"
            ]
          },
          "metadata": {},
          "execution_count": 46
        }
      ]
    },
    {
      "cell_type": "code",
      "source": [
        "readingTime(document2)"
      ],
      "metadata": {
        "colab": {
          "base_uri": "https://localhost:8080/",
          "height": 35
        },
        "id": "GwMU1HwTXdth",
        "outputId": "030eb61e-2bf3-4309-9d39-6130580ac5bd"
      },
      "execution_count": null,
      "outputs": [
        {
          "output_type": "execute_result",
          "data": {
            "text/plain": [
              "'2 mins'"
            ],
            "application/vnd.google.colaboratory.intrinsic+json": {
              "type": "string"
            }
          },
          "metadata": {},
          "execution_count": 47
        }
      ]
    }
  ]
}